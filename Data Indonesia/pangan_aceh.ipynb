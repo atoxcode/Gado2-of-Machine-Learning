{
 "cells": [
  {
   "cell_type": "code",
   "execution_count": 13,
   "metadata": {},
   "outputs": [],
   "source": [
    "#import libraries\n",
    "import pandas as pd\n",
    "import numpy as np\n",
    "import seaborn as sns"
   ]
  },
  {
   "cell_type": "code",
   "execution_count": 14,
   "metadata": {},
   "outputs": [
    {
     "data": {
      "text/html": [
       "<div>\n",
       "<style scoped>\n",
       "    .dataframe tbody tr th:only-of-type {\n",
       "        vertical-align: middle;\n",
       "    }\n",
       "\n",
       "    .dataframe tbody tr th {\n",
       "        vertical-align: top;\n",
       "    }\n",
       "\n",
       "    .dataframe thead th {\n",
       "        text-align: right;\n",
       "    }\n",
       "</style>\n",
       "<table border=\"1\" class=\"dataframe\">\n",
       "  <thead>\n",
       "    <tr style=\"text-align: right;\">\n",
       "      <th></th>\n",
       "      <th>wilayah</th>\n",
       "      <th>komoditas</th>\n",
       "      <th>date</th>\n",
       "      <th>quantity(kg)</th>\n",
       "    </tr>\n",
       "  </thead>\n",
       "  <tbody>\n",
       "    <tr>\n",
       "      <th>0</th>\n",
       "      <td>banda_aceh</td>\n",
       "      <td>beras</td>\n",
       "      <td>01/02/2023</td>\n",
       "      <td>12100.0</td>\n",
       "    </tr>\n",
       "    <tr>\n",
       "      <th>1</th>\n",
       "      <td>banda_aceh</td>\n",
       "      <td>beras</td>\n",
       "      <td>02/02/2023</td>\n",
       "      <td>12100.0</td>\n",
       "    </tr>\n",
       "    <tr>\n",
       "      <th>2</th>\n",
       "      <td>banda_aceh</td>\n",
       "      <td>beras</td>\n",
       "      <td>03/02/2023</td>\n",
       "      <td>12100.0</td>\n",
       "    </tr>\n",
       "    <tr>\n",
       "      <th>3</th>\n",
       "      <td>banda_aceh</td>\n",
       "      <td>beras</td>\n",
       "      <td>06/02/2023</td>\n",
       "      <td>12100.0</td>\n",
       "    </tr>\n",
       "    <tr>\n",
       "      <th>4</th>\n",
       "      <td>banda_aceh</td>\n",
       "      <td>beras</td>\n",
       "      <td>07/02/2023</td>\n",
       "      <td>12100.0</td>\n",
       "    </tr>\n",
       "    <tr>\n",
       "      <th>...</th>\n",
       "      <td>...</td>\n",
       "      <td>...</td>\n",
       "      <td>...</td>\n",
       "      <td>...</td>\n",
       "    </tr>\n",
       "    <tr>\n",
       "      <th>181</th>\n",
       "      <td>banda_aceh</td>\n",
       "      <td>gula_pasir_lokal</td>\n",
       "      <td>02/02/2023</td>\n",
       "      <td>15000.0</td>\n",
       "    </tr>\n",
       "    <tr>\n",
       "      <th>182</th>\n",
       "      <td>banda_aceh</td>\n",
       "      <td>gula_pasir_lokal</td>\n",
       "      <td>03/02/2023</td>\n",
       "      <td>15000.0</td>\n",
       "    </tr>\n",
       "    <tr>\n",
       "      <th>183</th>\n",
       "      <td>banda_aceh</td>\n",
       "      <td>gula_pasir_lokal</td>\n",
       "      <td>06/02/2023</td>\n",
       "      <td>15000.0</td>\n",
       "    </tr>\n",
       "    <tr>\n",
       "      <th>184</th>\n",
       "      <td>banda_aceh</td>\n",
       "      <td>gula_pasir_lokal</td>\n",
       "      <td>07/02/2023</td>\n",
       "      <td>15000.0</td>\n",
       "    </tr>\n",
       "    <tr>\n",
       "      <th>185</th>\n",
       "      <td>banda_aceh</td>\n",
       "      <td>gula_pasir_lokal</td>\n",
       "      <td>08/02/2023</td>\n",
       "      <td>15000.0</td>\n",
       "    </tr>\n",
       "  </tbody>\n",
       "</table>\n",
       "<p>186 rows × 4 columns</p>\n",
       "</div>"
      ],
      "text/plain": [
       "        wilayah         komoditas        date  quantity(kg)\n",
       "0    banda_aceh             beras  01/02/2023       12100.0\n",
       "1    banda_aceh             beras  02/02/2023       12100.0\n",
       "2    banda_aceh             beras  03/02/2023       12100.0\n",
       "3    banda_aceh             beras  06/02/2023       12100.0\n",
       "4    banda_aceh             beras  07/02/2023       12100.0\n",
       "..          ...               ...         ...           ...\n",
       "181  banda_aceh  gula_pasir_lokal  02/02/2023       15000.0\n",
       "182  banda_aceh  gula_pasir_lokal  03/02/2023       15000.0\n",
       "183  banda_aceh  gula_pasir_lokal  06/02/2023       15000.0\n",
       "184  banda_aceh  gula_pasir_lokal  07/02/2023       15000.0\n",
       "185  banda_aceh  gula_pasir_lokal  08/02/2023       15000.0\n",
       "\n",
       "[186 rows x 4 columns]"
      ]
     },
     "execution_count": 14,
     "metadata": {},
     "output_type": "execute_result"
    }
   ],
   "source": [
    "#upload dataset \n",
    "df = pd.read_csv('data_pangan_aceh.csv')\n",
    "df.drop(df.columns[df.columns.str.contains('Unnamed',case = False)],axis = 1, inplace = True)\n",
    "df"
   ]
  },
  {
   "cell_type": "code",
   "execution_count": 15,
   "metadata": {},
   "outputs": [
    {
     "data": {
      "text/plain": [
       "str"
      ]
     },
     "execution_count": 15,
     "metadata": {},
     "output_type": "execute_result"
    }
   ],
   "source": [
    "type('date')"
   ]
  },
  {
   "cell_type": "code",
   "execution_count": 8,
   "metadata": {},
   "outputs": [
    {
     "data": {
      "text/html": [
       "<div>\n",
       "<style scoped>\n",
       "    .dataframe tbody tr th:only-of-type {\n",
       "        vertical-align: middle;\n",
       "    }\n",
       "\n",
       "    .dataframe tbody tr th {\n",
       "        vertical-align: top;\n",
       "    }\n",
       "\n",
       "    .dataframe thead th {\n",
       "        text-align: right;\n",
       "    }\n",
       "</style>\n",
       "<table border=\"1\" class=\"dataframe\">\n",
       "  <thead>\n",
       "    <tr style=\"text-align: right;\">\n",
       "      <th></th>\n",
       "      <th>wilayah</th>\n",
       "      <th>komoditas</th>\n",
       "      <th>date</th>\n",
       "      <th>quantity(kg)</th>\n",
       "    </tr>\n",
       "  </thead>\n",
       "  <tbody>\n",
       "    <tr>\n",
       "      <th>0</th>\n",
       "      <td>banda_aceh</td>\n",
       "      <td>beras</td>\n",
       "      <td>01/02/2023</td>\n",
       "      <td>12100.0</td>\n",
       "    </tr>\n",
       "    <tr>\n",
       "      <th>1</th>\n",
       "      <td>banda_aceh</td>\n",
       "      <td>beras</td>\n",
       "      <td>02/02/2023</td>\n",
       "      <td>12100.0</td>\n",
       "    </tr>\n",
       "    <tr>\n",
       "      <th>2</th>\n",
       "      <td>banda_aceh</td>\n",
       "      <td>beras</td>\n",
       "      <td>03/02/2023</td>\n",
       "      <td>12100.0</td>\n",
       "    </tr>\n",
       "    <tr>\n",
       "      <th>3</th>\n",
       "      <td>banda_aceh</td>\n",
       "      <td>beras</td>\n",
       "      <td>06/02/2023</td>\n",
       "      <td>12100.0</td>\n",
       "    </tr>\n",
       "    <tr>\n",
       "      <th>4</th>\n",
       "      <td>banda_aceh</td>\n",
       "      <td>beras</td>\n",
       "      <td>07/02/2023</td>\n",
       "      <td>12100.0</td>\n",
       "    </tr>\n",
       "    <tr>\n",
       "      <th>5</th>\n",
       "      <td>banda_aceh</td>\n",
       "      <td>beras</td>\n",
       "      <td>08/02/2023</td>\n",
       "      <td>12100.0</td>\n",
       "    </tr>\n",
       "  </tbody>\n",
       "</table>\n",
       "</div>"
      ],
      "text/plain": [
       "      wilayah komoditas        date  quantity(kg)\n",
       "0  banda_aceh     beras  01/02/2023       12100.0\n",
       "1  banda_aceh     beras  02/02/2023       12100.0\n",
       "2  banda_aceh     beras  03/02/2023       12100.0\n",
       "3  banda_aceh     beras  06/02/2023       12100.0\n",
       "4  banda_aceh     beras  07/02/2023       12100.0\n",
       "5  banda_aceh     beras  08/02/2023       12100.0"
      ]
     },
     "execution_count": 8,
     "metadata": {},
     "output_type": "execute_result"
    }
   ],
   "source": [
    "df[df['komoditas'] == 'beras']"
   ]
  },
  {
   "cell_type": "code",
   "execution_count": 9,
   "metadata": {},
   "outputs": [],
   "source": [
    "df = df[df['komoditas'] == 'beras']"
   ]
  },
  {
   "cell_type": "code",
   "execution_count": 16,
   "metadata": {},
   "outputs": [],
   "source": [
    "import seaborn as sns"
   ]
  },
  {
   "cell_type": "code",
   "execution_count": 17,
   "metadata": {},
   "outputs": [
    {
     "data": {
      "text/plain": [
       "<AxesSubplot:xlabel='date', ylabel='komoditas'>"
      ]
     },
     "execution_count": 17,
     "metadata": {},
     "output_type": "execute_result"
    },
    {
     "data": {
      "image/png": "[encoded data removed]",
      "text/plain": [
       "<Figure size 432x288 with 1 Axes>"
      ]
     },
     "metadata": {
      "needs_background": "light"
     },
     "output_type": "display_data"
    }
   ],
   "source": [
    "sns.lineplot(x='date', y='komoditas', data = df)"
   ]
  },
  {
   "cell_type": "code",
   "execution_count": null,
   "metadata": {},
   "outputs": [],
   "source": []
  }
 ],
 "metadata": {
  "kernelspec": {
   "display_name": "Python 3",
   "language": "python",
   "name": "python3"
  },
  "language_info": {
   "codemirror_mode": {
    "name": "ipython",
    "version": 3
   },
   "file_extension": ".py",
   "mimetype": "text/x-python",
   "name": "python",
   "nbconvert_exporter": "python",
   "pygments_lexer": "ipython3",
   "version": "3.8.5"
  },
  "orig_nbformat": 4,
  "vscode": {
   "interpreter": {
    "hash": "aee8b7b246df8f9039afb4144a1f6fd8d2ca17a180786b69acc140d282b71a49"
   }
  }
 },
 "nbformat": 4,
 "nbformat_minor": 2
}
